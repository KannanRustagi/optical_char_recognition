{
  "cells": [
    {
      "cell_type": "markdown",
      "source": [
        "# Downloading and Preprocessing of Data"
      ],
      "metadata": {
        "id": "n59JPF7p1Bpl"
      }
    },
    {
      "cell_type": "code",
      "execution_count": 1,
      "metadata": {
        "colab": {
          "base_uri": "https://localhost:8080/"
        },
        "id": "mgItqR-TvAOD",
        "outputId": "42ad5691-1be6-4e19-d45e-3a657302f4fd"
      },
      "outputs": [
        {
          "output_type": "stream",
          "name": "stdout",
          "text": [
            "Mounted at /content/drive\n"
          ]
        }
      ],
      "source": [
        "#mounted google drive onto colab notebook\n",
        "from google.colab import drive\n",
        "drive.mount('/content/drive')"
      ]
    },
    {
      "cell_type": "code",
      "execution_count": 2,
      "metadata": {
        "id": "vMgiyJk-FI51"
      },
      "outputs": [],
      "source": [
        "import os\n",
        "from sklearn.model_selection import train_test_split"
      ]
    },
    {
      "cell_type": "code",
      "execution_count": 3,
      "metadata": {
        "id": "79tV8iQhs1Q7"
      },
      "outputs": [],
      "source": [
        "import skimage.io as io\n",
        "import numpy as np\n",
        "from matplotlib import pyplot as plt\n",
        "from skimage.filters import threshold_otsu\n",
        "from skimage.morphology import erosion, dilation \n",
        "%matplotlib inline"
      ]
    },
    {
      "cell_type": "code",
      "execution_count": 4,
      "metadata": {
        "id": "L8ZYUKp7MHlx"
      },
      "outputs": [],
      "source": [
        "from sklearn.linear_model import LogisticRegression\n",
        "from sklearn.svm import SVC\n",
        "from sklearn.ensemble import RandomForestClassifier\n",
        "from sklearn.metrics import precision_score, recall_score, f1_score, accuracy_score"
      ]
    },
    {
      "cell_type": "code",
      "execution_count": 5,
      "metadata": {
        "id": "Y1GFR4FFmuZB"
      },
      "outputs": [],
      "source": [
        "#list images will contain all the preprocessed images in the form of 100*100 2-D numpy arrays\n",
        "images = []\n",
        "#y_set will contain all the correct characters for each image\n",
        "y_set = []\n",
        "#X_set will contain all the partitioned character images(each image into 5 images) in the form of 100*20 2D numpy arrays \n",
        "X_set = []\n",
        "# we have extracted all the 5 sample folders and stored all the 1000 images in a folder named 'samples'\n",
        "image_folder = '/content/drive/MyDrive/samples/'        "
      ]
    },
    {
      "cell_type": "code",
      "execution_count": 6,
      "metadata": {
        "id": "D-yQcrXErK6G"
      },
      "outputs": [],
      "source": [
        "#preprocessing of all the 1000 images\n",
        "\n",
        "for filename in os.listdir(image_folder):\n",
        "    # Load image in grayscale\n",
        "    img = io.imread(os.path.join(image_folder, filename), as_gray = True)\n",
        "    #thresholding to convert a gray scale image into a binary image. \n",
        "    threshold = threshold_otsu(img)\n",
        "    img_binary = img > threshold\n",
        "    #erosion of the binary image\n",
        "    img_eroded = erosion(img_binary)\n",
        "    #performin a last Morphological Transformations but this time the kernel is 4x1 to reduce noise further.\n",
        "    kernel = np.ones((4,1), np.uint8)\n",
        "    preprocessed_img = dilation(img_eroded, kernel)\n",
        "    images.append(preprocessed_img)\n",
        "\n",
        "    for i in range (5):\n",
        "      y_set.append(filename[i])             \n",
        "            "
      ]
    },
    {
      "cell_type": "code",
      "execution_count": 7,
      "metadata": {
        "id": "RcUGRaVcseOz"
      },
      "outputs": [],
      "source": [
        "#splitting each image into 5 character images.\n",
        "for image in images:\n",
        "    # Split into 20-pixel wide windows\n",
        "    for i in range(0, image.shape[1], 20):\n",
        "        # Extract character image\n",
        "        X_set.append(image[:, i:i+20]) "
      ]
    },
    {
      "cell_type": "code",
      "execution_count": 8,
      "metadata": {
        "id": "zHib1YkgoBYP"
      },
      "outputs": [],
      "source": [
        "#train-validation split of 80-20%\n",
        "X_train, X_test, y_train, y_test = train_test_split(X_set, y_set, test_size=0.2, random_state=42)\n"
      ]
    },
    {
      "cell_type": "code",
      "execution_count": 9,
      "metadata": {
        "colab": {
          "base_uri": "https://localhost:8080/"
        },
        "id": "iXX8kQZzs-Ub",
        "outputId": "b3597f66-aaa6-4840-c0e9-5e112e8c9d01"
      },
      "outputs": [
        {
          "output_type": "execute_result",
          "data": {
            "text/plain": [
              "(100, 20)"
            ]
          },
          "metadata": {},
          "execution_count": 9
        }
      ],
      "source": [
        "X_train[0].shape"
      ]
    },
    {
      "cell_type": "code",
      "execution_count": 10,
      "metadata": {
        "id": "GlJT-hB1oHYV"
      },
      "outputs": [],
      "source": [
        "x_train=[]\n",
        "#converting the 2-D numpy array corresponding to each image into a flattend 1-D numpy array\n",
        "for image in X_train:\n",
        "  image=image.flatten(order='C')\n",
        "  x_train.append(image)"
      ]
    },
    {
      "cell_type": "code",
      "execution_count": 11,
      "metadata": {
        "id": "uwd3-SBkcsMN"
      },
      "outputs": [],
      "source": [
        "#concatenating all the flattened 1-D numpy arrays of all the training set images into a single 2D numpy array\n",
        "x_train_1=np.concatenate((x_train[0], x_train[1]))\n",
        "\n",
        "for i in range(2,4000):\n",
        "  x_train_1=np.concatenate((x_train_1, x_train[i]))"
      ]
    },
    {
      "cell_type": "code",
      "execution_count": 12,
      "metadata": {
        "id": "WZJCHdoqi1oa"
      },
      "outputs": [],
      "source": [
        "#reshaping x_train_1 so that each column corresponds to one image\n",
        "x_train_1=x_train_1.reshape(4000,2000)"
      ]
    },
    {
      "cell_type": "code",
      "execution_count": 13,
      "metadata": {
        "id": "jHCKco3hbLCT"
      },
      "outputs": [],
      "source": [
        "#converting all the characters to their ascii values and making a numpy array of y_train\n",
        "y_train_1=[]\n",
        "\n",
        "for y in y_train:\n",
        "  y_train_1.append(ord(y))\n",
        "\n",
        "y_train_1=np.array(y_train_1)"
      ]
    },
    {
      "cell_type": "code",
      "execution_count": 14,
      "metadata": {
        "id": "IRoGVWpFXucg"
      },
      "outputs": [],
      "source": [
        "#converting the 2-D numpy array corresponding to each image into a flattend 1-D numpy array\n",
        "x_test=[]\n",
        "\n",
        "for image in X_test:\n",
        "  image=image.flatten(order='C')\n",
        "  x_test.append(image)\n"
      ]
    },
    {
      "cell_type": "code",
      "execution_count": 15,
      "metadata": {
        "id": "HXT3KrihXxhT"
      },
      "outputs": [],
      "source": [
        "#concatenating all the flattened 1-D numpy arrays of all the validation/test set images into a single 2D numpy array\n",
        "x_test_1=np.concatenate((x_test[0], x_test[1]))\n",
        "\n",
        "for i in range(2,1000):\n",
        "  x_test_1=np.concatenate((x_test_1, x_test[i]))\n",
        "\n",
        "x_test_1=x_test_1.reshape(1000,2000)"
      ]
    },
    {
      "cell_type": "code",
      "execution_count": 16,
      "metadata": {
        "id": "5rCkc2ZzX7EX"
      },
      "outputs": [],
      "source": [
        "#converting all the characters to their ascii values and making a numpy array of y_train\n",
        "y_test_1=[]\n",
        "\n",
        "for y in y_test:\n",
        "  y_test_1.append(ord(y))\n",
        "\n",
        "y_test_1=np.array(y_test_1)"
      ]
    },
    {
      "cell_type": "markdown",
      "source": [
        "# Data Visualisation(How is the data divided into classes?)"
      ],
      "metadata": {
        "id": "x4mKmlc01PzL"
      }
    },
    {
      "cell_type": "code",
      "source": [
        "#plotting the frequency of all the characters as they appear in the entire dataset\n",
        "from collections import Counter\n",
        "\n",
        "# Example list of alphabetical characters\n",
        "characters = y_set\n",
        "# Count the occurrences of each character\n",
        "character_counts = Counter(characters)\n",
        "\n",
        "# Sort the characters in lexicographic order\n",
        "sorted_characters = sorted(character_counts.keys())\n",
        "\n",
        "# Get the corresponding counts in the sorted order\n",
        "sorted_counts = [character_counts[char] for char in sorted_characters]\n",
        "\n",
        "# Plot the graph\n",
        "plt.bar(sorted_characters, sorted_counts)\n",
        "plt.xlabel('Characters')\n",
        "plt.ylabel('Count')\n",
        "plt.title('Character Count in entire Dataset')\n",
        "plt.show()"
      ],
      "metadata": {
        "colab": {
          "base_uri": "https://localhost:8080/",
          "height": 472
        },
        "id": "1JOxQHo5CqD0",
        "outputId": "95152e49-495b-42a0-cd66-791f72d2b419"
      },
      "execution_count": 17,
      "outputs": [
        {
          "output_type": "display_data",
          "data": {
            "text/plain": [
              "<Figure size 640x480 with 1 Axes>"
            ],
            "image/png": "[encoded data removed]"
          },
          "metadata": {}
        }
      ]
    },
    {
      "cell_type": "code",
      "source": [
        "#plotting the frequency of all the characters as they appear in the training set\n",
        "from collections import Counter\n",
        "\n",
        "# Example list of alphabetical characters\n",
        "characters = y_train\n",
        "# Count the occurrences of each character\n",
        "character_counts = Counter(characters)\n",
        "\n",
        "# Sort the characters in lexicographic order\n",
        "sorted_characters = sorted(character_counts.keys())\n",
        "\n",
        "# Get the corresponding counts in the sorted order\n",
        "sorted_counts = [character_counts[char] for char in sorted_characters]\n",
        "\n",
        "# Plot the graph\n",
        "plt.bar(sorted_characters, sorted_counts)\n",
        "plt.xlabel('Characters')\n",
        "plt.ylabel('Count')\n",
        "plt.title('Character Count in Training Data')\n",
        "plt.show()"
      ],
      "metadata": {
        "colab": {
          "base_uri": "https://localhost:8080/",
          "height": 472
        },
        "id": "x9po-B0K1dSl",
        "outputId": "93022a81-9448-4377-ca63-f6600cc0fad4"
      },
      "execution_count": 18,
      "outputs": [
        {
          "output_type": "display_data",
          "data": {
            "text/plain": [
              "<Figure size 640x480 with 1 Axes>"
            ],
            "image/png": "[encoded data removed]"
          },
          "metadata": {}
        }
      ]
    },
    {
      "cell_type": "code",
      "source": [
        "#plotting the frequency of all the characters as they appear in the test/validation set\n",
        "characters = y_test\n",
        "# Count the occurrences of each character\n",
        "character_counts = Counter(characters)\n",
        "\n",
        "# Sort the characters in lexicographic order\n",
        "sorted_characters = sorted(character_counts.keys())\n",
        "\n",
        "# Get the corresponding counts in the sorted order\n",
        "sorted_counts = [character_counts[char] for char in sorted_characters]\n",
        "\n",
        "# Plot the graph\n",
        "plt.bar(sorted_characters, sorted_counts)\n",
        "plt.xlabel('Characters')\n",
        "plt.ylabel('Count')\n",
        "plt.title('Character Count in Test Data')\n",
        "plt.show()"
      ],
      "metadata": {
        "colab": {
          "base_uri": "https://localhost:8080/",
          "height": 472
        },
        "id": "TVMA702M1ijk",
        "outputId": "4e8e55ae-c8ba-4d68-f1d5-83bdbde164a8"
      },
      "execution_count": 19,
      "outputs": [
        {
          "output_type": "display_data",
          "data": {
            "text/plain": [
              "<Figure size 640x480 with 1 Axes>"
            ],
            "image/png": "[encoded data removed]"
          },
          "metadata": {}
        }
      ]
    },
    {
      "cell_type": "markdown",
      "source": [
        "# Machine Learning models for OCR"
      ],
      "metadata": {
        "id": "w6PzDIoCzgzL"
      }
    },
    {
      "cell_type": "markdown",
      "source": [
        "# Implementation of Logistic Regression for OCR"
      ],
      "metadata": {
        "id": "GjmY48TYzsrJ"
      }
    },
    {
      "cell_type": "code",
      "execution_count": 20,
      "metadata": {
        "id": "JHirCbTJTRwh"
      },
      "outputs": [],
      "source": [
        "from sklearn.linear_model import LogisticRegression\n",
        "\n",
        "model=LogisticRegression(fit_intercept=True, multi_class='auto', penalty= 'l1', solver= 'saga', max_iter=1000, C=50, verbose=2, n_jobs=5, tol=0.01)"
      ]
    },
    {
      "cell_type": "code",
      "execution_count": 21,
      "metadata": {
        "colab": {
          "base_uri": "https://localhost:8080/",
          "height": 144
        },
        "id": "lM5uZYecWW-9",
        "outputId": "82f7726b-f64a-463e-981f-50c11879b47d"
      },
      "outputs": [
        {
          "output_type": "stream",
          "name": "stderr",
          "text": [
            "[Parallel(n_jobs=5)]: Using backend ThreadingBackend with 5 concurrent workers.\n"
          ]
        },
        {
          "output_type": "stream",
          "name": "stdout",
          "text": [
            "convergence after 46 epochs took 229 seconds\n"
          ]
        },
        {
          "output_type": "stream",
          "name": "stderr",
          "text": [
            "[Parallel(n_jobs=5)]: Done   1 out of   1 | elapsed:  3.8min finished\n"
          ]
        },
        {
          "output_type": "execute_result",
          "data": {
            "text/plain": [
              "LogisticRegression(C=50, max_iter=1000, n_jobs=5, penalty='l1', solver='saga',\n",
              "                   tol=0.01, verbose=2)"
            ],
            "text/html": [
              "<style>#sk-container-id-1 {color: black;background-color: white;}#sk-container-id-1 pre{padding: 0;}#sk-container-id-1 div.sk-toggleable {background-color: white;}#sk-container-id-1 label.sk-toggleable__label {cursor: pointer;display: block;width: 100%;margin-bottom: 0;padding: 0.3em;box-sizing: border-box;text-align: center;}#sk-container-id-1 label.sk-toggleable__label-arrow:before {content: \"▸\";float: left;margin-right: 0.25em;color: #696969;}#sk-container-id-1 label.sk-toggleable__label-arrow:hover:before {color: black;}#sk-container-id-1 div.sk-estimator:hover label.sk-toggleable__label-arrow:before {color: black;}#sk-container-id-1 div.sk-toggleable__content {max-height: 0;max-width: 0;overflow: hidden;text-align: left;background-color: #f0f8ff;}#sk-container-id-1 div.sk-toggleable__content pre {margin: 0.2em;color: black;border-radius: 0.25em;background-color: #f0f8ff;}#sk-container-id-1 input.sk-toggleable__control:checked~div.sk-toggleable__content {max-height: 200px;max-width: 100%;overflow: auto;}#sk-container-id-1 input.sk-toggleable__control:checked~label.sk-toggleable__label-arrow:before {content: \"▾\";}#sk-container-id-1 div.sk-estimator input.sk-toggleable__control:checked~label.sk-toggleable__label {background-color: #d4ebff;}#sk-container-id-1 div.sk-label input.sk-toggleable__control:checked~label.sk-toggleable__label {background-color: #d4ebff;}#sk-container-id-1 input.sk-hidden--visually {border: 0;clip: rect(1px 1px 1px 1px);clip: rect(1px, 1px, 1px, 1px);height: 1px;margin: -1px;overflow: hidden;padding: 0;position: absolute;width: 1px;}#sk-container-id-1 div.sk-estimator {font-family: monospace;background-color: #f0f8ff;border: 1px dotted black;border-radius: 0.25em;box-sizing: border-box;margin-bottom: 0.5em;}#sk-container-id-1 div.sk-estimator:hover {background-color: #d4ebff;}#sk-container-id-1 div.sk-parallel-item::after {content: \"\";width: 100%;border-bottom: 1px solid gray;flex-grow: 1;}#sk-container-id-1 div.sk-label:hover label.sk-toggleable__label {background-color: #d4ebff;}#sk-container-id-1 div.sk-serial::before {content: \"\";position: absolute;border-left: 1px solid gray;box-sizing: border-box;top: 0;bottom: 0;left: 50%;z-index: 0;}#sk-container-id-1 div.sk-serial {display: flex;flex-direction: column;align-items: center;background-color: white;padding-right: 0.2em;padding-left: 0.2em;position: relative;}#sk-container-id-1 div.sk-item {position: relative;z-index: 1;}#sk-container-id-1 div.sk-parallel {display: flex;align-items: stretch;justify-content: center;background-color: white;position: relative;}#sk-container-id-1 div.sk-item::before, #sk-container-id-1 div.sk-parallel-item::before {content: \"\";position: absolute;border-left: 1px solid gray;box-sizing: border-box;top: 0;bottom: 0;left: 50%;z-index: -1;}#sk-container-id-1 div.sk-parallel-item {display: flex;flex-direction: column;z-index: 1;position: relative;background-color: white;}#sk-container-id-1 div.sk-parallel-item:first-child::after {align-self: flex-end;width: 50%;}#sk-container-id-1 div.sk-parallel-item:last-child::after {align-self: flex-start;width: 50%;}#sk-container-id-1 div.sk-parallel-item:only-child::after {width: 0;}#sk-container-id-1 div.sk-dashed-wrapped {border: 1px dashed gray;margin: 0 0.4em 0.5em 0.4em;box-sizing: border-box;padding-bottom: 0.4em;background-color: white;}#sk-container-id-1 div.sk-label label {font-family: monospace;font-weight: bold;display: inline-block;line-height: 1.2em;}#sk-container-id-1 div.sk-label-container {text-align: center;}#sk-container-id-1 div.sk-container {/* jupyter's `normalize.less` sets `[hidden] { display: none; }` but bootstrap.min.css set `[hidden] { display: none !important; }` so we also need the `!important` here to be able to override the default hidden behavior on the sphinx rendered scikit-learn.org. See: https://github.com/scikit-learn/scikit-learn/issues/21755 */display: inline-block !important;position: relative;}#sk-container-id-1 div.sk-text-repr-fallback {display: none;}</style><div id=\"sk-container-id-1\" class=\"sk-top-container\"><div class=\"sk-text-repr-fallback\"><pre>LogisticRegression(C=50, max_iter=1000, n_jobs=5, penalty=&#x27;l1&#x27;, solver=&#x27;saga&#x27;,\n",
              "                   tol=0.01, verbose=2)</pre><b>In a Jupyter environment, please rerun this cell to show the HTML representation or trust the notebook. <br />On GitHub, the HTML representation is unable to render, please try loading this page with nbviewer.org.</b></div><div class=\"sk-container\" hidden><div class=\"sk-item\"><div class=\"sk-estimator sk-toggleable\"><input class=\"sk-toggleable__control sk-hidden--visually\" id=\"sk-estimator-id-1\" type=\"checkbox\" checked><label for=\"sk-estimator-id-1\" class=\"sk-toggleable__label sk-toggleable__label-arrow\">LogisticRegression</label><div class=\"sk-toggleable__content\"><pre>LogisticRegression(C=50, max_iter=1000, n_jobs=5, penalty=&#x27;l1&#x27;, solver=&#x27;saga&#x27;,\n",
              "                   tol=0.01, verbose=2)</pre></div></div></div></div></div>"
            ]
          },
          "metadata": {},
          "execution_count": 21
        }
      ],
      "source": [
        "model.fit(x_train_1,y_train_1)"
      ]
    },
    {
      "cell_type": "code",
      "execution_count": 22,
      "metadata": {
        "colab": {
          "base_uri": "https://localhost:8080/"
        },
        "id": "_yPwL4V-ytkp",
        "outputId": "3c3c62b5-0cef-49c0-9695-a12339c55702"
      },
      "outputs": [
        {
          "output_type": "stream",
          "name": "stdout",
          "text": [
            "Logistic Regression Accuracy: 0.575\n"
          ]
        }
      ],
      "source": [
        "lg_accuracy=model.score(x_test_1, y_test_1)\n",
        "print(\"Logistic Regression Accuracy:\", lg_accuracy)"
      ]
    },
    {
      "cell_type": "markdown",
      "source": [
        "# Q3 (for Logistic Regression)"
      ],
      "metadata": {
        "id": "17_c0zCOgfcw"
      }
    },
    {
      "cell_type": "code",
      "source": [
        "# printing the presicion score, recall score and f1 score\n",
        "y_pred_lg=model.predict(x_test_1)\n",
        "precision_lg=precision_score(y_test_1, y_pred_lg, average='macro')\n",
        "recall_lg=recall_score(y_test_1, y_pred_lg, average='macro')\n",
        "f1_score_lg=f1_score(y_test_1, y_pred_lg, average='macro')\n",
        "\n",
        "print(\"Logistic Regression precision score:\", precision_lg)\n",
        "print(\"Logistic Regression recall score:\", recall_lg)\n",
        "print(\"Logistic Regression F1 score:\", f1_score_lg)"
      ],
      "metadata": {
        "colab": {
          "base_uri": "https://localhost:8080/"
        },
        "id": "uM0MiE1W-Dlr",
        "outputId": "0eee4b0a-87da-4db2-90b1-5af8e56804f1"
      },
      "execution_count": 23,
      "outputs": [
        {
          "output_type": "stream",
          "name": "stdout",
          "text": [
            "Logistic Regression precision score: 0.5804845986688609\n",
            "Logistic Regression recall score: 0.5757125788649321\n",
            "Logistic Regression F1 score: 0.5736637685258993\n"
          ]
        }
      ]
    },
    {
      "cell_type": "markdown",
      "source": [
        "# Implementation of SVM for OCR "
      ],
      "metadata": {
        "id": "-LGClFUm0Hlg"
      }
    },
    {
      "cell_type": "code",
      "execution_count": 24,
      "metadata": {
        "id": "BM2Joydi5Set"
      },
      "outputs": [],
      "source": [
        "# Support Vector Machine\n",
        "from sklearn import svm\n",
        "svm = svm.SVC()"
      ]
    },
    {
      "cell_type": "code",
      "source": [
        "model = svm.fit(x_train_1, y_train_1)"
      ],
      "metadata": {
        "id": "2JSFDkZa0bw9"
      },
      "execution_count": 30,
      "outputs": []
    },
    {
      "cell_type": "code",
      "source": [
        "y_pred_svm = model.predict(x_test_1)\n",
        "\n",
        "svm_accuracy = accuracy_score(y_test_1, y_pred_svm)\n",
        "print(\"Support Vector Machine Accuracy:\", svm_accuracy)"
      ],
      "metadata": {
        "colab": {
          "base_uri": "https://localhost:8080/"
        },
        "id": "9Ju32MrN0h8q",
        "outputId": "f0209e7f-1c3c-4cbe-b43f-06db50107a02"
      },
      "execution_count": 31,
      "outputs": [
        {
          "output_type": "stream",
          "name": "stdout",
          "text": [
            "Support Vector Machine Accuracy: 0.699\n"
          ]
        }
      ]
    },
    {
      "cell_type": "markdown",
      "source": [
        "# Q3 (for SVM)"
      ],
      "metadata": {
        "id": "jauHyUxWgb4f"
      }
    },
    {
      "cell_type": "code",
      "source": [
        "# printing the presicion score, recall score and f1 score\n",
        "precision_svm=precision_score(y_test_1, y_pred_svm, average='macro')\n",
        "recall_svm=recall_score(y_test_1, y_pred_svm, average='macro')\n",
        "f1_score_svm=f1_score(y_test_1, y_pred_svm, average='macro')\n",
        "\n",
        "print(\"SVM precision score:\", precision_svm)\n",
        "print(\"SVM recall score:\", recall_svm)\n",
        "print(\"SVM F1 score:\", f1_score_svm)"
      ],
      "metadata": {
        "colab": {
          "base_uri": "https://localhost:8080/"
        },
        "id": "YhcWMWbp_yKR",
        "outputId": "98a52e1e-0863-4e1f-d3c9-36e623f4d2b3"
      },
      "execution_count": 32,
      "outputs": [
        {
          "output_type": "stream",
          "name": "stdout",
          "text": [
            "SVM precision score: 0.7329797071311385\n",
            "SVM recall score: 0.7037860535519597\n",
            "SVM F1 score: 0.704575123478888\n"
          ]
        }
      ]
    },
    {
      "cell_type": "markdown",
      "source": [
        "# Implementation of Random Forest Classifier for OCR"
      ],
      "metadata": {
        "id": "AJjBQUJi0tO7"
      }
    },
    {
      "cell_type": "code",
      "execution_count": 33,
      "metadata": {
        "id": "maJci6CDAr7c"
      },
      "outputs": [],
      "source": [
        "from sklearn.metrics import confusion_matrix\n",
        "# Random Forest\n",
        "rf = RandomForestClassifier()"
      ]
    },
    {
      "cell_type": "code",
      "source": [
        "rf.get_params()"
      ],
      "metadata": {
        "colab": {
          "base_uri": "https://localhost:8080/"
        },
        "id": "0pe19E7GPReb",
        "outputId": "d57c7465-b4c0-406d-dcc9-1edfddf696e5"
      },
      "execution_count": 34,
      "outputs": [
        {
          "output_type": "execute_result",
          "data": {
            "text/plain": [
              "{'bootstrap': True,\n",
              " 'ccp_alpha': 0.0,\n",
              " 'class_weight': None,\n",
              " 'criterion': 'gini',\n",
              " 'max_depth': None,\n",
              " 'max_features': 'sqrt',\n",
              " 'max_leaf_nodes': None,\n",
              " 'max_samples': None,\n",
              " 'min_impurity_decrease': 0.0,\n",
              " 'min_samples_leaf': 1,\n",
              " 'min_samples_split': 2,\n",
              " 'min_weight_fraction_leaf': 0.0,\n",
              " 'n_estimators': 100,\n",
              " 'n_jobs': None,\n",
              " 'oob_score': False,\n",
              " 'random_state': None,\n",
              " 'verbose': 0,\n",
              " 'warm_start': False}"
            ]
          },
          "metadata": {},
          "execution_count": 34
        }
      ]
    },
    {
      "cell_type": "code",
      "source": [
        "model_rf = rf.fit(x_train_1, y_train_1)"
      ],
      "metadata": {
        "id": "RqEFElHc00eP"
      },
      "execution_count": 35,
      "outputs": []
    },
    {
      "cell_type": "code",
      "source": [
        "y_pred_rf = model_rf.predict(x_test_1)\n",
        "\n",
        "rf_accuracy = accuracy_score(y_test_1, y_pred_rf)\n",
        "print(\"Random Forest Accuracy:\", rf_accuracy)"
      ],
      "metadata": {
        "colab": {
          "base_uri": "https://localhost:8080/"
        },
        "id": "LwYcfTarAZS-",
        "outputId": "a4c99573-e41d-4a6a-ee69-b9b5ad53b385"
      },
      "execution_count": 36,
      "outputs": [
        {
          "output_type": "stream",
          "name": "stdout",
          "text": [
            "Random Forest Accuracy: 0.727\n"
          ]
        }
      ]
    },
    {
      "cell_type": "markdown",
      "source": [
        "# Q3 (for Random Forest)\n",
        "\n"
      ],
      "metadata": {
        "id": "QqrgbQq0gQl3"
      }
    },
    {
      "cell_type": "code",
      "source": [
        "# printing the presicion score, recall score and f1 score\n",
        "precision_rf=precision_score(y_test_1, y_pred_rf, average='macro')\n",
        "recall_rf=recall_score(y_test_1, y_pred_rf, average='macro')\n",
        "f1_score_rf=f1_score(y_test_1, y_pred_rf, average='macro')\n",
        "\n",
        "print(\"Random Forest precision score:\", precision_rf)\n",
        "print(\"Random Forest recall score:\", recall_rf)\n",
        "print(\"Random Forest F1 score:\", f1_score_rf)"
      ],
      "metadata": {
        "colab": {
          "base_uri": "https://localhost:8080/"
        },
        "id": "RfPJvl-5ApSk",
        "outputId": "50fdcc1a-d668-4f24-8eb9-db3e395c9f49"
      },
      "execution_count": 37,
      "outputs": [
        {
          "output_type": "stream",
          "name": "stdout",
          "text": [
            "Random Forest precision score: 0.7458681812923185\n",
            "Random Forest recall score: 0.7267000725327744\n",
            "Random Forest F1 score: 0.7265099406273351\n"
          ]
        }
      ]
    },
    {
      "cell_type": "code",
      "source": [
        "best_accuracy = max(lg_accuracy, svm_accuracy, rf_accuracy)\n",
        "best_classifier = \"Logistic Regression\" if lg_accuracy == best_accuracy else \\\n",
        "    \"Support Vector Machine\" if svm_accuracy == best_accuracy else \"Random Forest\"\n",
        "print(\"Best accuracy: \", best_accuracy)\n",
        "print(\"Best Classifier: \",best_classifier)"
      ],
      "metadata": {
        "colab": {
          "base_uri": "https://localhost:8080/"
        },
        "id": "RxiMg1qrkaex",
        "outputId": "31789815-6013-4f7a-db3b-a70d8ea53d1d"
      },
      "execution_count": 38,
      "outputs": [
        {
          "output_type": "stream",
          "name": "stdout",
          "text": [
            "Best accuracy:  0.727\n",
            "Best Classifier:  Random Forest\n"
          ]
        }
      ]
    },
    {
      "cell_type": "markdown",
      "source": [
        "# Q1 "
      ],
      "metadata": {
        "id": "tCdMI2-wBsQC"
      }
    },
    {
      "cell_type": "markdown",
      "source": [
        "Out of the 3 algorithms implemented, we can see that the **random forest classifier** has the highest accuracy of all.\n",
        "\n",
        "**Accuracy is not the best measure to judge the correctness of classification** algorithms. It hides certain detail that can be utilized to understand the performance of the model better. It may be misleading in various cases as given below-\n",
        "\n",
        "1. **Multi-class target variable**: With 3 or more class labels we may get a high classification accuracy, but we can't judge wether all classes are being predicted equally well or whether certain classes are being neglected by the model.\n",
        "\n",
        "2. **Imbalanced dataset**: When we have imbalanced data, we may achieve high accuracy but it is actually not a good score if we can get that when the model always predicts the most common class label."
      ],
      "metadata": {
        "id": "z4typLIA1qpC"
      }
    },
    {
      "cell_type": "markdown",
      "source": [
        "We can use several other criterion for judging the performance of our classification algorithm. Some of them are: **Confusion matrix, Precision, Recall, F1 score.**\n",
        "\n",
        "From **Confusion Matrix** we get more metrics to evaluate the model,\n",
        "1. True positives: Target variable labeled as positive that are actually positive\n",
        "2. False positives: Target variable labeled as positive that are actually negative\n",
        "3. True negatives: Target variable labeled as negative that are actually negative\n",
        "4. False negatives: Target variable labeled as negative that are actually positive\n",
        "\n",
        "**Recall** is defined as the number of true positives divided by the total number of elements that actually belong to the positive class\n",
        "\n",
        "**Precision** is the ratio of correct positive predictions to the total predicted positives. \n",
        "\n",
        "**F1 Score** is the harmonic mean of Recall and Precision."
      ],
      "metadata": {
        "id": "Dq5HYDt-3mwS"
      }
    },
    {
      "cell_type": "markdown",
      "source": [
        "## Q2 Hyperparameter Tuning on Random Forest"
      ],
      "metadata": {
        "id": "Qm347kIUIo6B"
      }
    },
    {
      "cell_type": "markdown",
      "source": [
        "1. We increased the parameter **n_estimators**, i,e, the number of trees in the forest of the model to from the default value of **100 to 200** and it led to an increase in accuracy. However, if we increase it further, the accuracy decreased, so we have reached somwehere near the optimal value of this hyperparameter. Each decision tree in the random forest uses a random subset of features to make decisions. **By increasing the number of trees, more features and combinations of features are considered.** **This expanded exploration of feature space allows the random forest to capture a broader range of patterns and relationships in the data, leading to improved accuracy**. Moreover, Random forests work by aggregating predictions from multiple decision trees. **By increasing the number of trees, the predictions from the individual trees are averaged or aggregated.** This ensemble approach helps to **reduce the variance of the model, hence also tackling the problem of overfitting**.\n",
        "\n",
        "2. The default value of **max_depth**, i.e, the number of splits that each decision tree is allowed to make, was none, we changed it to **19,** that led to an increase in accuracy. However, increasing beyond that value lead to a decrease in accuracy. This is because if the number of splits is too low, the model underfits the data and if it is too high the model overfits. So, using trial and error, we have somehow managed to be near the optimal value.**Deeper trees can capture more intricate patterns in the data**, potentially leading to improved accuracy. Deeper trees can **create a hierarchy of features**, and exploit them to study more complex relationships among features.By increasing max_depth, we essentially also **reduce the bias of individual decision trees** in the forest. "
      ],
      "metadata": {
        "id": "Q439TtvYIvkX"
      }
    },
    {
      "cell_type": "code",
      "source": [
        "from sklearn.metrics import confusion_matrix\n",
        "# Random Forest\n",
        "rf_1 = RandomForestClassifier(n_estimators=200,max_depth=19, oob_score=True, n_jobs=5)\n",
        "\n",
        "model_rf_1 = rf_1.fit(x_train_1, y_train_1)\n",
        "\n",
        "y_pred_rf_1 = model_rf_1.predict(x_test_1)\n",
        "\n",
        "rf_accuracy_1 = accuracy_score(y_test_1, y_pred_rf_1)\n",
        "print(\"Improved Random Forest Accuracy:\", rf_accuracy_1)"
      ],
      "metadata": {
        "colab": {
          "base_uri": "https://localhost:8080/"
        },
        "id": "6I_mKH7LGp6h",
        "outputId": "90a16c0f-ef0e-4ccf-f73d-b5faa5641363"
      },
      "execution_count": 81,
      "outputs": [
        {
          "output_type": "stream",
          "name": "stdout",
          "text": [
            "Improved Random Forest Accuracy: 0.748\n"
          ]
        }
      ]
    },
    {
      "cell_type": "markdown",
      "source": [
        "We were obtaining an **accuracy that varied between 74.5-77%** on hyperparameter tuning of the random forest classfication algorithm."
      ],
      "metadata": {
        "id": "mLxsjga6UCd9"
      }
    },
    {
      "cell_type": "markdown",
      "source": [
        "# Q4(a) Confusion Matrix using Random Forest Classifier"
      ],
      "metadata": {
        "id": "SmQBP5s0BpyU"
      }
    },
    {
      "cell_type": "code",
      "source": [
        "cm_rf=confusion_matrix(y_test_1, y_pred_rf_1)\n",
        "\n",
        "#using heatmap from seaborn library to more descriptively and effectively depict the features of the confusion matrix\n",
        "import seaborn as sns\n",
        "sns.heatmap(cm_rf, annot=True)\n",
        "\n",
        "#the labels can essentially be mapped as follows-\n",
        "#a-0\n",
        "#b-1\n",
        "#c-3\n",
        "#...\n",
        "#z-25"
      ],
      "metadata": {
        "colab": {
          "base_uri": "https://localhost:8080/",
          "height": 451
        },
        "id": "iyg2vzwtBHfK",
        "outputId": "c3c9d1e8-46e7-413d-d609-614a04012cc7"
      },
      "execution_count": 82,
      "outputs": [
        {
          "output_type": "execute_result",
          "data": {
            "text/plain": [
              "<Axes: >"
            ]
          },
          "metadata": {},
          "execution_count": 82
        },
        {
          "output_type": "display_data",
          "data": {
            "text/plain": [
              "<Figure size 640x480 with 2 Axes>"
            ],
            "image/png": "[encoded data removed]"
          },
          "metadata": {}
        }
      ]
    },
    {
      "cell_type": "markdown",
      "source": [
        "# Q4(b) Characters with least accuracy\n"
      ],
      "metadata": {
        "id": "onFeuDZ7SnFj"
      }
    },
    {
      "cell_type": "markdown",
      "source": [
        "We have used the confusion matrix to find the accuracy for each of the characters in the dataset and then found the minimum amongst them"
      ],
      "metadata": {
        "id": "6Yk6z3IRSsNM"
      }
    },
    {
      "cell_type": "code",
      "source": [
        "all_unique_chars = np.unique(y_test)\n",
        "min = 1\n",
        "min_accuracy_char = 'a'\n",
        "low_accuracy_chars = []\n",
        "\n",
        "for i in range(len(all_unique_chars)):    \n",
        "    accuracy = cm_rf[i, i] / np.sum(cm_rf[i, :])\n",
        "    if accuracy< min:\n",
        "      min = accuracy\n",
        "      min_accuracy_char = all_unique_chars[i] \n",
        "      \n",
        "    if accuracy < 0.6: # an arbitrary bar we set to derive the most wrongly predicted characters\n",
        "      low_accuracy_chars.append(all_unique_chars[i])\n",
        "\n",
        "print(\"Characters with low accuracy:\", low_accuracy_chars)\n",
        "print(\"Character with the lowest accuracy: \", min_accuracy_char)\n",
        "\n"
      ],
      "metadata": {
        "colab": {
          "base_uri": "https://localhost:8080/"
        },
        "id": "vFdadFH311bf",
        "outputId": "055ea904-8849-450d-e758-294b1e3ed25a"
      },
      "execution_count": 83,
      "outputs": [
        {
          "output_type": "stream",
          "name": "stdout",
          "text": [
            "Characters with low accuracy: ['h', 't', 'v']\n",
            "Character with the lowest accuracy:  h\n"
          ]
        }
      ]
    },
    {
      "cell_type": "markdown",
      "source": [
        "# Q4(c) Reason for low accuracy\n",
        "The characters predicted with the least accuracy are 'h', 't', 'v'. \n",
        "\n",
        "From the confusion matrix, we can clearly see that most of the times 'h' has been predicted incorectly as the character 'b'. The resemblance between the writing styles of the two characters might lead to the model classifying them in the same tree as they may appear to have the same features. Moreover, on running the Random forest model, 'h' was found to be character predicted with least accuracy a majority of the time.\n",
        "\n",
        "Apart from this, 't' also has low accuracy because of its resemblance with 'f', it has been mispredicted most of the times as 'f' only. \n",
        "\n"
      ],
      "metadata": {
        "id": "5bl9KLtWOQNZ"
      }
    },
    {
      "cell_type": "markdown",
      "source": [
        "# Q5 Different Algorithms for OCR\n",
        "\n",
        "Here we tried to implement various algorithms such as **KNN, XGBoost, Decision Trees, Stochastic Gradient Descent and Gaussian Naive Bayes**. Among these, the **KNN classifier and XGBoost classifier** gave the best accuracies of around **70%** which is **similar to what we had obtained with SVM**. \n",
        "\n",
        "The implementation of each of the above algorithms is given below."
      ],
      "metadata": {
        "id": "jc6DFXIWS7bA"
      }
    },
    {
      "cell_type": "markdown",
      "source": [
        "## Decision Trees\n",
        "\n",
        "Random Forest is a specific type of bagging ensemble method that uses decision trees as base models. So we wanted to try decision trees as well to see how good they performed and compare the results with what we had obtained with random forest.\n",
        "\n",
        "It performs very poorly in comparison to random forest which seems quite obvious due to the several reasons-\n",
        "\n",
        "1. **Decision trees are prone to overfitting**, meaning they can become too complex and memorize the training data instead of generalizing well to new data. Random Forest tackles this issue by creating multiple subsets of the training data through random sampling and builds individual decision trees on each subset.\n",
        "\n",
        "2. Random Forest uses multiple decision trees. Each decision tree is trained independently on different subsets of the data, introducing **diversity in the modeling process**."
      ],
      "metadata": {
        "id": "SzfoW_3n9lcK"
      }
    },
    {
      "cell_type": "code",
      "source": [
        "from sklearn.tree import DecisionTreeClassifier\n",
        "\n",
        "dt_model = DecisionTreeClassifier()\n",
        "dt_model.fit(x_train_1, y_train_1)\n",
        "\n",
        "\n",
        "y_pred_dt = dt_model.predict(x_test_1)\n",
        "\n",
        "\n",
        "precision = precision_score(y_test_1, y_pred_dt, average='macro')\n",
        "recall = recall_score(y_test_1, y_pred_dt, average='macro')\n",
        "f1 = f1_score(y_test_1, y_pred_dt, average='macro')\n",
        "accuracy = accuracy_score(y_test_1, y_pred_dt)\n",
        "\n",
        "print(\"Precision score:\", precision)\n",
        "print(\"Recall score:\", recall)\n",
        "print(\"F1 score:\", f1)\n",
        "print(\"Accuracy:\", accuracy)"
      ],
      "metadata": {
        "colab": {
          "base_uri": "https://localhost:8080/"
        },
        "id": "xSezRgx20szS",
        "outputId": "3f11cc73-99c5-4935-a41b-e7e051db0af8"
      },
      "execution_count": 49,
      "outputs": [
        {
          "output_type": "stream",
          "name": "stdout",
          "text": [
            "Precision score: 0.43353964662072725\n",
            "Recall score: 0.42604557634680595\n",
            "F1 score: 0.4256758388064373\n",
            "Accuracy: 0.429\n"
          ]
        }
      ]
    },
    {
      "cell_type": "markdown",
      "source": [
        "## K-Nearest Neighbours\n",
        "\n",
        "KNN is a supervised machine learning algorithm that works by **finding the k nearest neighbors of a given data point in the feature space** on the basis of a simple distance metric such as **'euclidian distance'** which is also the default parameter and assigns the **majority class label** of those neighbors to the unlabeled data point. \n",
        "\n",
        "We can see that KNN actually performs as well as SVM for the task having similar accuracy."
      ],
      "metadata": {
        "id": "5xhb8ZTX9oqg"
      }
    },
    {
      "cell_type": "code",
      "source": [
        "from sklearn.neighbors import KNeighborsClassifier\n",
        "\n",
        "knn_model = KNeighborsClassifier(n_neighbors=20)\n",
        "knn_model.fit(x_train_1, y_train_1)\n",
        "\n",
        "\n",
        "y_pred_knn = knn_model.predict(x_test_1)\n",
        "\n",
        "\n",
        "precision = precision_score(y_test_1, y_pred_knn, average='macro')\n",
        "recall = recall_score(y_test_1, y_pred_knn, average='macro')\n",
        "f1 = f1_score(y_test_1, y_pred_knn, average='macro')\n",
        "accuracy = accuracy_score(y_test_1, y_pred_knn)\n",
        "\n",
        "print(\"Precision score:\", precision)\n",
        "print(\"Recall score:\", recall)\n",
        "print(\"F1 score:\", f1)\n",
        "print(\"Accuracy:\", accuracy)"
      ],
      "metadata": {
        "colab": {
          "base_uri": "https://localhost:8080/"
        },
        "id": "yfh9kCWi4twK",
        "outputId": "830e833a-8421-4ce9-903a-90d36d338b01"
      },
      "execution_count": 50,
      "outputs": [
        {
          "output_type": "stream",
          "name": "stdout",
          "text": [
            "Precision score: 0.7629026842955156\n",
            "Recall score: 0.6990540020466848\n",
            "F1 score: 0.7069944133059363\n",
            "Accuracy: 0.698\n"
          ]
        }
      ]
    },
    {
      "cell_type": "markdown",
      "source": [
        "## Stochastic Gradient Descent\n",
        "\n",
        "Stochastic Gradient Descent works by **iteratively updating the model's parameters by computing the gradients of a loss function on a small subset of training data** called a \"mini-batch.\""
      ],
      "metadata": {
        "id": "lRaE-jdT9wlz"
      }
    },
    {
      "cell_type": "code",
      "source": [
        "from sklearn.linear_model import SGDClassifier\n",
        "\n",
        "sgd_model = SGDClassifier()\n",
        "sgd_model.fit(x_train_1, y_train_1)\n",
        "\n",
        "\n",
        "y_pred_sgd = sgd_model.predict(x_test_1)\n",
        "\n",
        "\n",
        "precision = precision_score(y_test_1, y_pred_sgd, average='macro')\n",
        "recall = recall_score(y_test_1, y_pred_sgd, average='macro')\n",
        "f1 = f1_score(y_test_1, y_pred_sgd, average='macro')\n",
        "accuracy = accuracy_score(y_test_1, y_pred_sgd)\n",
        "\n",
        "print(\"Precision score:\", precision)\n",
        "print(\"Recall score:\", recall)\n",
        "print(\"F1 score:\", f1)\n",
        "print(\"Accuracy:\", accuracy)"
      ],
      "metadata": {
        "colab": {
          "base_uri": "https://localhost:8080/"
        },
        "id": "LPy6dlT35sYp",
        "outputId": "054e17e8-f913-4675-90a6-1e6f23776e44"
      },
      "execution_count": 51,
      "outputs": [
        {
          "output_type": "stream",
          "name": "stdout",
          "text": [
            "Precision score: 0.5537920424439866\n",
            "Recall score: 0.4841937762388983\n",
            "F1 score: 0.4872892487675182\n",
            "Accuracy: 0.487\n"
          ]
        }
      ]
    },
    {
      "cell_type": "markdown",
      "source": [
        "## Gaussian Naive Bayes\n",
        "\n",
        "Naive Bayes is a probabilistic classification algorithm based on Bayes' theorem with the assumption of independence between features. It calculates the probability of a data point belonging to each class based on the observed features and assigns it to the class with the highest probability.\n",
        "\n",
        "**Gaussian Naive Bayes is a variant of the Naive Bayes algorithm that assumes the features of the dataset follow a Gaussian (normal) distribution**. It calculates the likelihood of a data point belonging to each class using the probability density function of the Gaussian distribution for each feature. The algorithm estimates the mean and variance of each feature in the training data and uses them to make predictions. "
      ],
      "metadata": {
        "id": "X8Q9QUIJ91SU"
      }
    },
    {
      "cell_type": "code",
      "source": [
        "from sklearn.naive_bayes import GaussianNB\n",
        "\n",
        "gnb_model = GaussianNB()\n",
        "gnb_model.fit(x_train_1, y_train_1)\n",
        "\n",
        "\n",
        "y_pred_gnb = gnb_model.predict(x_test_1)\n",
        "\n",
        "\n",
        "precision = precision_score(y_test_1, y_pred_gnb, average='macro')\n",
        "recall = recall_score(y_test_1, y_pred_gnb, average='macro')\n",
        "f1 = f1_score(y_test_1, y_pred_gnb, average='macro')\n",
        "accuracy = accuracy_score(y_test_1, y_pred_gnb)\n",
        "\n",
        "print(\"Precision score:\", precision)\n",
        "print(\"Recall score:\", recall)\n",
        "print(\"F1 score:\", f1)\n",
        "print(\"Accuracy:\", accuracy)"
      ],
      "metadata": {
        "colab": {
          "base_uri": "https://localhost:8080/"
        },
        "id": "ZKYphYzx8Qix",
        "outputId": "bdd95f73-d062-4407-c5e6-908e694911e3"
      },
      "execution_count": 52,
      "outputs": [
        {
          "output_type": "stream",
          "name": "stdout",
          "text": [
            "Precision score: 0.4575799610961366\n",
            "Recall score: 0.4117058745502621\n",
            "F1 score: 0.41962317588071374\n",
            "Accuracy: 0.412\n"
          ]
        }
      ]
    },
    {
      "cell_type": "markdown",
      "source": [
        "## XGBoost Classifier\n",
        "\n",
        "Since random forest, which is essentially based on ensemble learning worked well, we thought of trying some other ensemble learning techniques. **Boosting is another famous ensemble method** that trains multiple base models sequentially, where each subsequent model focuses on correcting the mistakes made by the previous models. The predictions of the base models are combined using a weighted voting scheme, where more weight is given to the predictions of the more accurate models.\n",
        "\n",
        "**XGBoost is essentially an implementation of gradient boosted trees. It boosts the performance of weak decision trees by combining them into a strong predictive model.** It optimizes a loss function through gradient descent to improve the overall performance and accuracy of the model.\n",
        "\n",
        "It has accuracy similar to SVM."
      ],
      "metadata": {
        "id": "PUHNz5Pd9dDQ"
      }
    },
    {
      "cell_type": "code",
      "source": [
        "import xgboost as xgb\n",
        "from xgboost import XGBClassifier"
      ],
      "metadata": {
        "id": "8PYMWC0UAriu"
      },
      "execution_count": 53,
      "outputs": []
    },
    {
      "cell_type": "code",
      "source": [
        "y_train_2=[]\n",
        "for i in y_train_1:\n",
        "  y_train_2.append(i-97)"
      ],
      "metadata": {
        "id": "oET0SQhrDKpY"
      },
      "execution_count": 54,
      "outputs": []
    },
    {
      "cell_type": "code",
      "source": [
        "y_test_2=[]\n",
        "for i in y_test_1:\n",
        "  y_test_2.append(i-97)"
      ],
      "metadata": {
        "id": "iC1NeKP6DbO7"
      },
      "execution_count": 55,
      "outputs": []
    },
    {
      "cell_type": "code",
      "source": [
        "xgb_model = xgb.XGBClassifier()\n",
        "xgb_model.fit(x_train_1, y_train_2)\n",
        "\n",
        "y_pred_xg_1 = xgb_model.predict(x_test_1)\n",
        "\n",
        "\n",
        "precision = precision_score(y_test_2, y_pred_xg_1, average='macro')\n",
        "recall = recall_score(y_test_2, y_pred_xg_1, average='macro')\n",
        "f1 = f1_score(y_test_2, y_pred_xg_1, average='macro')\n",
        "accuracy = accuracy_score(y_test_2, y_pred_xg_1)\n",
        "\n",
        "print(\"Precision score:\", precision)\n",
        "print(\"Recall score:\", recall)\n",
        "print(\"F1 score:\", f1)\n",
        "print(\"Accuracy:\", accuracy)"
      ],
      "metadata": {
        "colab": {
          "base_uri": "https://localhost:8080/"
        },
        "id": "4IGX6r3DIaFA",
        "outputId": "dedef1e2-d070-4762-f9a9-3dfb18db3914"
      },
      "execution_count": 56,
      "outputs": [
        {
          "output_type": "stream",
          "name": "stdout",
          "text": [
            "Precision score: 0.6967657039799307\n",
            "Recall score: 0.692974650975323\n",
            "F1 score: 0.6896077598454649\n",
            "Accuracy: 0.69\n"
          ]
        }
      ]
    }
  ],
  "metadata": {
    "colab": {
      "provenance": []
    },
    "kernelspec": {
      "display_name": "Python 3",
      "name": "python3"
    },
    "language_info": {
      "name": "python"
    }
  },
  "nbformat": 4,
  "nbformat_minor": 0
}